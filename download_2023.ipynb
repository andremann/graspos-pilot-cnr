{
 "cells": [
  {
   "cell_type": "code",
   "execution_count": 2,
   "metadata": {},
   "outputs": [
    {
     "name": "stderr",
     "output_type": "stream",
     "text": [
      "/Users/andrea/.virtualenvs/data-science/lib/python3.9/site-packages/urllib3/__init__.py:35: NotOpenSSLWarning: urllib3 v2 only supports OpenSSL 1.1.1+, currently the 'ssl' module is compiled with 'LibreSSL 2.8.3'. See: https://github.com/urllib3/urllib3/issues/3020\n",
      "  warnings.warn(\n"
     ]
    }
   ],
   "source": [
    "import os\n",
    "import requests\n",
    "from urllib.request import urlretrieve\n",
    "from bs4 import BeautifulSoup\n"
   ]
  },
  {
   "cell_type": "markdown",
   "metadata": {},
   "source": [
    "# Download criteria for 315.65 PT"
   ]
  },
  {
   "cell_type": "code",
   "execution_count": 3,
   "metadata": {},
   "outputs": [
    {
     "name": "stdout",
     "output_type": "stream",
     "text": [
      "Downloaded 315_65_criteri_02.pdf\n",
      "Downloaded 315_65_criteri_04.pdf\n",
      "Downloaded 315_65_criteri_06.pdf\n",
      "Downloaded 315_65_criteri_08.pdf\n",
      "Downloaded 315_65_criteri_05.pdf\n",
      "Downloaded 315_65_criteri_09.pdf\n",
      "Downloaded 315_65_criteri_07.pdf\n",
      "Downloaded 315_65_criteri_10.pdf\n",
      "Downloaded 315_65_criteri_01.pdf\n",
      "Downloaded 315_65_criteri_03.pdf\n"
     ]
    }
   ],
   "source": [
    "url = 'https://www.urp.cnr.it/page.php?level=3&pg=47&Org=4&db=1)'\n",
    "html = requests.get(url).text\n",
    "\n",
    "soup = BeautifulSoup(html, 'html.parser')\n",
    "\n",
    "for a in soup.find_all('a'):\n",
    "    candidate_url = 'https://www.urp.cnr.it' + str(a.get('href'))\n",
    "    if '315_65' in candidate_url and '2023' in candidate_url and 'riteri' in candidate_url:\n",
    "        response = requests.get(candidate_url)\n",
    "\n",
    "        filename = candidate_url.split('/')[-1]\n",
    "        pdf = open(os.path.join('data/2023/criteria/315.65 PT/', filename), 'wb')\n",
    "        pdf.write(response.content)\n",
    "        pdf.close()\n",
    "        print('Downloaded ' + filename)"
   ]
  },
  {
   "cell_type": "markdown",
   "metadata": {},
   "source": [
    "# Download criteria for 315.64 DT"
   ]
  },
  {
   "cell_type": "code",
   "execution_count": 4,
   "metadata": {},
   "outputs": [
    {
     "name": "stdout",
     "output_type": "stream",
     "text": [
      "Downloaded 315_64_criteri_01.pdf\n",
      "Downloaded 315_64_criteri_10.pdf\n",
      "Downloaded 315_64_criteri_04.pdf\n",
      "Downloaded 315_64_criteri_09.pdf\n",
      "Downloaded 315_64_criteri_02.pdf\n",
      "Downloaded 315_64_criteri_05.pdf\n",
      "Downloaded 315_64_criteri_07.pdf\n",
      "Downloaded 315_64_criteri_08.pdf\n",
      "Downloaded 315_64_criteri_03.pdf\n",
      "Downloaded 315_64_criteri_06.pdf\n",
      "Downloaded 315_64_criteri_06_rett.pdf\n"
     ]
    }
   ],
   "source": [
    "url = 'https://www.urp.cnr.it/page.php?level=3&pg=47&Org=4&db=1)'\n",
    "html = requests.get(url).text\n",
    "\n",
    "soup = BeautifulSoup(html, 'html.parser')\n",
    "\n",
    "for a in soup.find_all('a'):\n",
    "    candidate_url = 'https://www.urp.cnr.it' + str(a.get('href'))\n",
    "    if '315_64' in candidate_url and '2023' in candidate_url and 'riteri' in candidate_url:\n",
    "        response = requests.get(candidate_url)\n",
    "\n",
    "        filename = candidate_url.split('/')[-1]\n",
    "        pdf = open(os.path.join('data/2023/criteria/315.64 DT/', filename), 'wb')\n",
    "        pdf.write(response.content)\n",
    "        pdf.close()\n",
    "        print('Downloaded ' + filename)"
   ]
  },
  {
   "cell_type": "markdown",
   "metadata": {},
   "source": [
    "# Download criteria for 315.63 PR"
   ]
  },
  {
   "cell_type": "code",
   "execution_count": 5,
   "metadata": {},
   "outputs": [
    {
     "name": "stdout",
     "output_type": "stream",
     "text": [
      "Downloaded 315_63_criteri_01.pdf\n",
      "Downloaded 315_63_criteri_02.pdf\n",
      "Downloaded 315_63_criteri_05.pdf\n",
      "Downloaded 315_63_criteri_06.pdf\n",
      "Downloaded 315_63_criteri_10.pdf\n",
      "Downloaded 315_63_criteri_11.pdf\n",
      "Downloaded 315_63_criteri_13.pdf\n",
      "Downloaded 315_63_criteri_16.pdf\n",
      "Downloaded 315_63_criteri_19.pdf\n",
      "Downloaded 315_63_criteri_21.pdf\n",
      "Downloaded 315_63_criteri_27.pdf\n",
      "Downloaded 315_63_comm_28_criteri.pdf\n",
      "Downloaded 315_63_criteri_32.pdf\n",
      "Downloaded 315_63_ret_criteri_32.pdf\n",
      "Downloaded 315_63_criteri_33.pdf\n",
      "Downloaded 315_63_criteri_34.pdf\n",
      "Downloaded 315_63_criteri_03.pdf\n",
      "Downloaded 315_63_criteri_04.pdf\n",
      "Downloaded 315_63_criteri_15.pdf\n",
      "Downloaded 315_63_criteri_17.pdf\n",
      "Downloaded 315_63_criteri_18.pdf\n",
      "Downloaded 315_63_criteri_20.pdf\n",
      "Downloaded 315_63_criteri_22.pdf\n",
      "Downloaded 315_63_criteri_23.pdf\n",
      "Downloaded 315_63_ch01_23.pdf\n",
      "Downloaded 315_63_criteri_24.pdf\n",
      "Downloaded 315_63_criteri_29.pdf\n",
      "Downloaded 315_63_criteri_30.pdf\n",
      "Downloaded 315_63_criteri_35.pdf\n",
      "Downloaded 315_63_criteri_07.pdf\n",
      "Downloaded 315_63_criteri_ch_07.pdf\n",
      "Downloaded 315_63_comm_08_criteri.pdf\n",
      "Downloaded 315_63_criteri_09.pdf\n",
      "Downloaded 315_63_criteri_12.pdf\n",
      "Downloaded 315_63_criteri_14.pdf\n",
      "Downloaded 315_63_criteri_25.pdf\n",
      "Downloaded 315_63_Criteri_26.pdf\n",
      "Downloaded 315_63_ch01_26.pdf\n",
      "Downloaded 315_63_criteri_31.pdf\n"
     ]
    }
   ],
   "source": [
    "url = 'https://archivio.urp.cnr.it/copertine/formazione/form_concorsi/concorsi2023/315_63.html'\n",
    "html = requests.get(url).text\n",
    "\n",
    "soup = BeautifulSoup(html, 'html.parser')\n",
    "\n",
    "for a in soup.find_all('a'):\n",
    "    candidate_url = 'https://www.urp.cnr.it' + str(a.get('href'))\n",
    "    if '315_63' in candidate_url and '2023' in candidate_url and ('riteri' in candidate_url or 'ch' in candidate_url):\n",
    "        response = requests.get(candidate_url)\n",
    "\n",
    "        filename = candidate_url.split('/')[-1]\n",
    "        pdf = open(os.path.join('data/2023/criteria/315.63 PR/', filename), 'wb')\n",
    "        pdf.write(response.content)\n",
    "        pdf.close()\n",
    "        print('Downloaded ' + filename)"
   ]
  },
  {
   "cell_type": "markdown",
   "metadata": {},
   "source": [
    "# Download criteria for 315.62 DR"
   ]
  },
  {
   "cell_type": "code",
   "execution_count": 6,
   "metadata": {},
   "outputs": [
    {
     "name": "stdout",
     "output_type": "stream",
     "text": [
      "Downloaded 315_62_ch_13.pdf\n",
      "Downloaded 315_62_criteri_13.pdf\n",
      "Downloaded 315_62_criteri_int_13.pdf\n",
      "Downloaded 315_62_criteri_area_16.pdf\n",
      "Downloaded 315_62_criteri_area_27.pdf\n",
      "Downloaded 315_62_criteri_area_32.pdf\n",
      "Downloaded 315_62_criteri_area_21.pdf\n",
      "Downloaded 315_62_int_criteri_area_21.pdf\n",
      "Downloaded 315_62_criteri_area_11.pdf\n",
      "Downloaded 315_62_criteri_area_17.pdf\n",
      "Downloaded 315_62_criteri_area_18.pdf\n",
      "Downloaded 315_62_criteri_area_25.pdf\n",
      "Downloaded 315_62_criteri_area_02.pdf\n",
      "Downloaded 315_62_criteri_area_33.pdf\n",
      "Downloaded 315_62_criteri_area_14.pdf\n",
      "Downloaded 315_62_criteri_area_23.pdf\n",
      "Downloaded 315_62_criteri_area_07.pdf\n",
      "Downloaded 315_62_criteri_area_09.pdf\n",
      "Downloaded 315_62_criteri_area_29.pdf\n",
      "Downloaded 315_62_criteri_area_09_rett.pdf\n",
      "Downloaded 315_62_criteri_area_05.pdf\n",
      "Downloaded 315_62_criteri_area_19.pdf\n",
      "Downloaded 315_62_criteri_area_03.pdf\n",
      "Downloaded 315_62_criteri_area_08.pdf\n",
      "Downloaded 315_62_criteri_area_31.pdf\n",
      "Downloaded 315_62_criteri_area_15.pdf\n",
      "Downloaded 315_62_criteri_area_24.pdf\n",
      "Downloaded 315_62_criteri_integr_area_18.pdf\n",
      "Downloaded 315_62_criteri_area_10.pdf\n",
      "Downloaded 315_62_criteri_area_22.pdf\n",
      "Downloaded 315_62_err_corr_criteri_area_10.pdf\n",
      "Downloaded 315_62_err_corr_2_criteri_area_10.pdf\n",
      "Downloaded 315_62_criteri_area_rett_24.pdf\n",
      "Downloaded 315_62_criteri_area_06.pdf\n",
      "Downloaded 315_62_criteri_area_01.pdf\n",
      "Downloaded 315_62_criteri_area_20.pdf\n",
      "Downloaded 315_62_criteri_area_26.pdf\n",
      "Downloaded 315_62_criteri_area_30.pdf\n",
      "Downloaded 315_62_criteri_area_35.pdf\n",
      "Downloaded 315_62_criteri_area_12.pdf\n",
      "Downloaded 315_62_criteri_34.pdf\n",
      "Downloaded 315_62_criteri_28.pdf\n",
      "Downloaded 315_62_criteri_04.pdf\n",
      "Downloaded 315_62_criteri_rett_area_20.pdf\n"
     ]
    }
   ],
   "source": [
    "url = 'https://www.urp.cnr.it/page.php?level=3&pg=47&Org=4&db=1)'\n",
    "html = requests.get(url).text\n",
    "\n",
    "soup = BeautifulSoup(html, 'html.parser')\n",
    "\n",
    "for a in soup.find_all('a'):\n",
    "    candidate_url = 'https://www.urp.cnr.it' + str(a.get('href'))\n",
    "    if '315_62' in candidate_url and '2023' in candidate_url and ('riteri' in candidate_url or 'ch' in candidate_url):\n",
    "        response = requests.get(candidate_url)\n",
    "\n",
    "        filename = candidate_url.split('/')[-1]\n",
    "        pdf = open(os.path.join('data/2023/criteria/315.62 DR/', filename), 'wb')\n",
    "        pdf.write(response.content)\n",
    "        pdf.close()\n",
    "        print('Downloaded ' + filename)"
   ]
  },
  {
   "cell_type": "code",
   "execution_count": null,
   "metadata": {},
   "outputs": [],
   "source": []
  }
 ],
 "metadata": {
  "kernelspec": {
   "display_name": "data-science",
   "language": "python",
   "name": "python3"
  },
  "language_info": {
   "codemirror_mode": {
    "name": "ipython",
    "version": 3
   },
   "file_extension": ".py",
   "mimetype": "text/x-python",
   "name": "python",
   "nbconvert_exporter": "python",
   "pygments_lexer": "ipython3",
   "version": "3.9.6"
  }
 },
 "nbformat": 4,
 "nbformat_minor": 2
}
