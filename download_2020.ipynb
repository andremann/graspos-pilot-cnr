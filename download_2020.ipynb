{
 "cells": [
  {
   "cell_type": "code",
   "execution_count": 1,
   "metadata": {},
   "outputs": [
    {
     "name": "stderr",
     "output_type": "stream",
     "text": [
      "/Users/andrea/.virtualenvs/data-science/lib/python3.9/site-packages/urllib3/__init__.py:35: NotOpenSSLWarning: urllib3 v2 only supports OpenSSL 1.1.1+, currently the 'ssl' module is compiled with 'LibreSSL 2.8.3'. See: https://github.com/urllib3/urllib3/issues/3020\n",
      "  warnings.warn(\n"
     ]
    }
   ],
   "source": [
    "import os\n",
    "import requests\n",
    "from urllib.request import urlretrieve\n",
    "from bs4 import BeautifulSoup\n"
   ]
  },
  {
   "cell_type": "markdown",
   "metadata": {},
   "source": [
    "# Download calls"
   ]
  },
  {
   "cell_type": "code",
   "execution_count": 2,
   "metadata": {},
   "outputs": [
    {
     "name": "stdout",
     "output_type": "stream",
     "text": [
      "Downloaded 315_09_bando.pdf\n",
      "Downloaded 315_08_bando.pdf\n",
      "Downloaded 315_07_bando.pdf\n",
      "Downloaded 315_61_bando.pdf\n",
      "Downloaded 315_60_bando.pdf\n",
      "Downloaded 315_06_bando.pdf\n",
      "Downloaded 315_59_bando.pdf\n",
      "Downloaded 315_58_bando.pdf\n",
      "Downloaded 315_57_bando.pdf\n",
      "Downloaded 315_56_bando.pdf\n",
      "Downloaded 315_55_bando.pdf\n",
      "Downloaded 315_54_bando.pdf\n",
      "Downloaded 315_53_bando.pdf\n",
      "Downloaded 315_52_bando.pdf\n",
      "Downloaded 315_51_bando.pdf\n",
      "Downloaded 315_50_bando.pdf\n",
      "Downloaded 315_05_bando.pdf\n",
      "Downloaded 315_49_bando.pdf\n",
      "Downloaded 315_48_bando.pdf\n",
      "Downloaded 315_47_bando.pdf\n",
      "Downloaded 315_46_bando.pdf\n",
      "Downloaded 315_45_bando.pdf\n",
      "Downloaded 315_44_bando.pdf\n",
      "Downloaded 315_43_bando.pdf\n",
      "Downloaded 315_42_bando.pdf\n",
      "Downloaded 315_41_bando.pdf\n",
      "Downloaded 315_40_bando.pdf\n",
      "Downloaded 315_04_bando.pdf\n",
      "Downloaded 315_39_bando.pdf\n",
      "Downloaded 315_38_bando.pdf\n",
      "Downloaded 315_37_bando.pdf\n",
      "Downloaded 315_36_bando.pdf\n",
      "Downloaded 315_35_bando.pdf\n",
      "Downloaded 315_34_bando.pdf\n",
      "Downloaded 315_33_bando.pdf\n",
      "Downloaded 315_32_bando.pdf\n",
      "Downloaded 315_31_bando.pdf\n",
      "Downloaded 315_30_bando.pdf\n",
      "Downloaded 315_03_bando.pdf\n",
      "Downloaded 315_29_bando.pdf\n",
      "Downloaded 315_28_bando.pdf\n",
      "Downloaded 315_27_bando.pdf\n",
      "Downloaded 315_26_bando.pdf\n",
      "Downloaded 315_25_bando.pdf\n",
      "Downloaded 315_24_bando.pdf\n",
      "Downloaded 315_23_bando.pdf\n",
      "Downloaded 315_22_bando.pdf\n",
      "Downloaded 315_21_bando.pdf\n",
      "Downloaded 315_20_bando.pdf\n",
      "Downloaded 315_02_bando.pdf\n",
      "Downloaded 315_19_bando.pdf\n",
      "Downloaded 315_18_bando.pdf\n",
      "Downloaded 315_17_bando.pdf\n",
      "Downloaded 315_16_bando.pdf\n",
      "Downloaded 315_15_bando.pdf\n",
      "Downloaded 315_14_bando.pdf\n",
      "Downloaded 315_13_bando.pdf\n",
      "Downloaded 315_12_bando.pdf\n",
      "Downloaded 315_11_bando.pdf\n",
      "Downloaded 315_10_bando.pdf\n",
      "Downloaded 315_01_bando.pdf\n"
     ]
    }
   ],
   "source": [
    "url = 'https://www.urp.cnr.it/page.php?level=3&pg=47&Org=4&db=1)'\n",
    "html = requests.get(url).text\n",
    "\n",
    "soup = BeautifulSoup(html, 'html.parser')\n",
    "\n",
    "for a in soup.find_all('a'):\n",
    "    candidate_url = 'https://www.urp.cnr.it' + str(a.get('href'))\n",
    "    if '315_' in candidate_url and '2020' in candidate_url and 'bando' in candidate_url:\n",
    "        response = requests.get(candidate_url)\n",
    "\n",
    "        filename = candidate_url.split('/')[-1]\n",
    "        pdf = open(os.path.join('data/2020/calls/', filename), 'wb')\n",
    "        pdf.write(response.content)\n",
    "        pdf.close()\n",
    "        print('Downloaded ' + filename)"
   ]
  },
  {
   "cell_type": "markdown",
   "metadata": {},
   "source": [
    "# Download criteria"
   ]
  },
  {
   "cell_type": "code",
   "execution_count": null,
   "metadata": {},
   "outputs": [
    {
     "name": "stdout",
     "output_type": "stream",
     "text": [
      "Downloaded 315_09_criteri.pdf\n",
      "Downloaded 315_08_criteri.pdf\n",
      "Downloaded 315_07_criteri.pdf\n",
      "Downloaded 315_61_criteri.pdf\n",
      "Downloaded 315_60_criteri.pdf\n",
      "Downloaded 315_06_criteri.pdf\n",
      "Downloaded 315_59_criteri.pdf\n",
      "Downloaded 315_59_grad_rett.pdf\n",
      "Downloaded 315_58_criteri.pdf\n",
      "Downloaded 315_58_grad_rett.pdf\n",
      "Downloaded 315_57_criteri.pdf\n",
      "Downloaded 315_56_criteri.pdf\n",
      "Downloaded 315_55_criteri.pdf\n",
      "Downloaded 315_54_criteri.pdf\n",
      "Downloaded 315_53_criteri.pdf\n",
      "Downloaded 315_52_criteri.pdf\n",
      "Downloaded 315_51_criteri.pdf\n",
      "Downloaded 315_50_criteri.pdf\n",
      "Downloaded 315_50_grad_ret_nom.pdf\n",
      "Downloaded 315_05_criteri.pdf\n",
      "Downloaded 315_49_criteri.pdf\n",
      "Downloaded 315_48_criteri.pdf\n",
      "Downloaded 315_47_criteri.pdf\n",
      "Downloaded 315_46_criteri.pdf\n",
      "Downloaded 315_45_criteri.pdf\n",
      "Downloaded 315_44_criteri.pdf\n",
      "Downloaded 315_43_criteri.pdf\n",
      "Downloaded 315_42_comm_rett.pdf\n",
      "Downloaded 315_42_comm_rett_2.pdf\n",
      "Downloaded 315_42_criteri.pdf\n",
      "Downloaded 315_41_comm_rett.pdf\n",
      "Downloaded 315_41_criteri.pdf\n",
      "Downloaded 315_40_criteri.pdf\n",
      "Downloaded 315_40_criteri_err_corr.pdf\n",
      "Downloaded 315_04_comm_rett.pdf\n",
      "Downloaded 315_04_criteri.pdf\n",
      "Downloaded 315_04_criteri_rett.pdf\n",
      "Downloaded 315_39_criteri.pdf\n",
      "Downloaded 315_38_criteri.pdf\n",
      "Downloaded 315_37_criteri.pdf\n",
      "Downloaded 315_36_criteri.pdf\n",
      "Downloaded 315_35_criteri.pdf\n",
      "Downloaded 315_35_comm_funz_rett.pdf\n",
      "Downloaded 315_34_criteri.pdf\n",
      "Downloaded 315_33_criteri.pdf\n",
      "Downloaded 315_32_criteri.pdf\n",
      "Downloaded 315_31_criteri.pdf\n",
      "Downloaded 315_30_criteri.pdf\n",
      "Downloaded 315_03_criteri.pdf\n",
      "Downloaded 315_03_criteri_rett.pdf\n",
      "Downloaded 315_29_criteri.pdf\n",
      "Downloaded 315_29_criteri_err_corr.pdf\n",
      "Downloaded 315_28_criteri.pdf\n",
      "Downloaded 315_27_criteri.pdf\n",
      "Downloaded 315_26_criteri.pdf\n",
      "Downloaded 315_26_criteri_rett.pdf\n",
      "Downloaded 315_25_criteri.pdf\n",
      "Downloaded 315_25_grad_rett.pdf\n",
      "Downloaded 315_24_criteri.pdf\n",
      "Downloaded 315_23_criteri.pdf\n",
      "Downloaded 315_22_criteri.pdf\n",
      "Downloaded 315_21_criteri.pdf\n",
      "Downloaded 315_21_riformulazione_grad_ret.pdf\n",
      "Downloaded 315_20_criteri.pdf\n",
      "Downloaded 315_02_criteri.pdf\n",
      "Downloaded 315_19_criteri.pdf\n",
      "Downloaded 315_19_criteri_err_corr.pdf\n",
      "Downloaded 315_18_criteri.pdf\n",
      "Downloaded 315_17_criteri.pdf\n",
      "Downloaded 315_16_criteri.pdf\n",
      "Downloaded 315_16_criteri_rett.pdf\n",
      "Downloaded 315_15_criteri.pdf\n",
      "Downloaded 315_14_criteri.pdf\n",
      "Downloaded 315_14_criteri_err_corr.pdf\n",
      "Downloaded 315_13_criteri.pdf\n",
      "Downloaded 315_12_criteri.pdf\n",
      "Downloaded 315_11_criteri.pdf\n",
      "Downloaded 315_10_criteri.pdf\n",
      "Downloaded 315_10_criteri_rett.pdf\n",
      "Downloaded 315_01_criteri.pdf\n"
     ]
    }
   ],
   "source": [
    "url = 'https://www.urp.cnr.it/page.php?level=3&pg=47&Org=4&db=1)'\n",
    "html = requests.get(url).text\n",
    "\n",
    "soup = BeautifulSoup(html, 'html.parser')\n",
    "\n",
    "for a in soup.find_all('a'):\n",
    "    candidate_url = 'https://www.urp.cnr.it' + str(a.get('href'))\n",
    "    if '315_' in candidate_url and '2020' in candidate_url and 'riteri' in candidate_url:\n",
    "        response = requests.get(candidate_url)\n",
    "\n",
    "        filename = candidate_url.split('/')[-1]\n",
    "        pdf = open(os.path.join('data/2020/criteria/', filename), 'wb')\n",
    "        pdf.write(response.content)\n",
    "        pdf.close()\n",
    "        print('Downloaded ' + filename)"
   ]
  },
  {
   "cell_type": "code",
   "execution_count": null,
   "metadata": {},
   "outputs": [],
   "source": []
  }
 ],
 "metadata": {
  "kernelspec": {
   "display_name": "data-science",
   "language": "python",
   "name": "python3"
  },
  "language_info": {
   "codemirror_mode": {
    "name": "ipython",
    "version": 3
   },
   "file_extension": ".py",
   "mimetype": "text/x-python",
   "name": "python",
   "nbconvert_exporter": "python",
   "pygments_lexer": "ipython3",
   "version": "3.9.6"
  }
 },
 "nbformat": 4,
 "nbformat_minor": 2
}
